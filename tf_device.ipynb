{
  "nbformat": 4,
  "nbformat_minor": 0,
  "metadata": {
    "colab": {
      "provenance": [],
      "authorship_tag": "ABX9TyMbOyWTQziHNTw0Mz2X1iy7",
      "include_colab_link": true
    },
    "kernelspec": {
      "name": "python3",
      "display_name": "Python 3"
    },
    "language_info": {
      "name": "python"
    }
  },
  "cells": [
    {
      "cell_type": "markdown",
      "metadata": {
        "id": "view-in-github",
        "colab_type": "text"
      },
      "source": [
        "<a href=\"https://colab.research.google.com/github/AadityaAdh/tf_device/blob/main/tf_device.ipynb\" target=\"_parent\"><img src=\"https://colab.research.google.com/assets/colab-badge.svg\" alt=\"Open In Colab\"/></a>"
      ]
    },
    {
      "cell_type": "code",
      "execution_count": null,
      "metadata": {
        "id": "t-yht47h7LIg"
      },
      "outputs": [],
      "source": [
        "import tensorflow as tf\n"
      ]
    },
    {
      "cell_type": "markdown",
      "source": [
        "    In TensorFlow, the tf.device context manager is used to\n",
        "    \n",
        "    specify the device (e.g., CPU or GPU) on which a particular operation or block of\n",
        "    operations should be executed.\n",
        "    eg: tf.device('/cpu:0'):"
      ],
      "metadata": {
        "id": "xtoQbgq07oaL"
      }
    },
    {
      "cell_type": "markdown",
      "source": [
        "    In TensorFlow, the device string \"/gpu:0\" is a representation of a specific GPU device.\n",
        "    \n",
        "    The notation \"/gpu:0\" refers to the first GPU device available in the system.\n",
        "    \n",
        "    If a machine has multiple GPUs, they may be represented as \"/gpu:0\", \"/gpu:1\", and so on."
      ],
      "metadata": {
        "id": "6rkd1hUt7-a8"
      }
    },
    {
      "cell_type": "code",
      "source": [
        "\n",
        "# Using the first GPU\n",
        "with tf.device('/gpu:0'):\n",
        "    a = tf.constant([1, 2, 3])\n",
        "    b = tf.constant([4, 5, 6])\n",
        "    result = a + b\n",
        "    print(result)\n",
        "\n",
        "\n",
        "\n"
      ],
      "metadata": {
        "colab": {
          "base_uri": "https://localhost:8080/"
        },
        "id": "d1uEHaCf7QFG",
        "outputId": "d0505cf2-366a-419a-f246-d77906365746"
      },
      "execution_count": null,
      "outputs": [
        {
          "output_type": "stream",
          "name": "stdout",
          "text": [
            "tf.Tensor([5 7 9], shape=(3,), dtype=int32)\n"
          ]
        }
      ]
    },
    {
      "cell_type": "code",
      "source": [
        "# Using the second GPU\n",
        "with tf.device('/gpu:1'):\n",
        "    c = tf.constant([7, 8, 9])\n",
        "    result = result + c\n",
        "    print(result)"
      ],
      "metadata": {
        "colab": {
          "base_uri": "https://localhost:8080/"
        },
        "id": "J_bNg1Md8Nxo",
        "outputId": "e186d39a-8f40-4501-80d1-b625cc367227"
      },
      "execution_count": null,
      "outputs": [
        {
          "output_type": "stream",
          "name": "stdout",
          "text": [
            "tf.Tensor([12 15 18], shape=(3,), dtype=int32)\n"
          ]
        }
      ]
    },
    {
      "cell_type": "code",
      "source": [],
      "metadata": {
        "id": "wLUwkCEP8Y9I"
      },
      "execution_count": null,
      "outputs": []
    }
  ]
}